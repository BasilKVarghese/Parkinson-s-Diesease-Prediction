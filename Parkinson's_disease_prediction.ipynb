{
  "cells": [
    {
      "cell_type": "markdown",
      "metadata": {
        "id": "view-in-github"
      },
      "source": [
        "<a href=\"https://colab.research.google.com/github/shshyam147/DSEngineering/blob/main/Assignment_FeatureSelection_ShikaShyam.ipynb\" target=\"_parent\"><img src=\"https://colab.research.google.com/assets/colab-badge.svg\" alt=\"Open In Colab\"/></a>"
      ]
    },
    {
      "cell_type": "markdown",
      "metadata": {
        "id": "ZvGrE5xacSCE"
      },
      "source": [
        "# A comparison of predicting Parkinson's disease with Speech Data using Resilient Neural Networks, SVM, Linear Regression and Decision Trees\n",
        "\n",
        "##Abstract\n",
        "\n",
        "The Parkinson's telemonitoring dataset is a dataset that comprises of biomedical voice measurments from 42 people with early-stage Parkinson's disease recruited to a six-month trial of a telemonitoring device for remote symptom progression monitoring. The recordings were automatically captured in the patient's homes. \n",
        "\n",
        "Columns in the dataset contain subject number, subject age, subject gender, time interval from baseline recruitment date, motor UPDRS, total UPDRS, and 16 biomedical voice measures. Each row corresponds to one of 5,875 voice recording from these individuals. The main aim of the data is to predict the motor and total UPDRS scores ('motor_UPDRS' and 'total_UPDRS') from the 16 voice measures.\n",
        "\n",
        "This notebook aims to analyze, visualize and determine the important features among these 20 features that can help us predict the two target variables, namely, motor_UPDRS and total_UPDRS and comparing the performance of various machine learning algorithms in predicting the same\n",
        "\n",
        "Below is the data dictionary for this dataset:\n",
        "\n",
        "1. subject# - Integer that uniquely identifies each subject \n",
        "2. age - Subject age \n",
        "3. sex - Subject gender '0' - male, '1' - female \n",
        "4. test_time - Time since recruitment into the trial. The integer part is the number of days since recruitment. \n",
        "5. motor_UPDRS - Clinician's motor UPDRS score, linearly interpolated \n",
        "6. total_UPDRS - Clinician's total UPDRS score, linearly interpolated \n",
        "7. Jitter(%),Jitter(Abs),Jitter:RAP,Jitter:PPQ5,Jitter:DDP - Several measures of variation in fundamental frequency \n",
        "8. Shimmer,Shimmer(dB),Shimmer:APQ3,Shimmer:APQ5,Shimmer:APQ11,Shimmer:DDA - Several measures of variation in amplitude \n",
        "9. NHR,HNR - Two measures of ratio of noise to tonal components in the voice \n",
        "10. RPDE - A nonlinear dynamical complexity measure \n",
        "11. DFA - Signal fractal scaling exponent \n",
        "12. PPE - A nonlinear measure of fundamental frequency variation "
      ]
    },
    {
      "cell_type": "code",
      "execution_count": 11,
      "metadata": {
        "colab": {
          "base_uri": "https://localhost:8080/"
        },
        "id": "S314G_Epe_N6",
        "outputId": "50b3cf97-79ba-4645-a723-d20327227e0a"
      },
      "outputs": [
        {
          "output_type": "stream",
          "name": "stdout",
          "text": [
            "Looking in indexes: https://pypi.org/simple, https://us-python.pkg.dev/colab-wheels/public/simple/\n",
            "Requirement already satisfied: fitter in /usr/local/lib/python3.7/dist-packages (1.4.0)\n",
            "Requirement already satisfied: easydev in /usr/local/lib/python3.7/dist-packages (from fitter) (0.12.0)\n",
            "Requirement already satisfied: pandas in /usr/local/lib/python3.7/dist-packages (from fitter) (1.3.5)\n",
            "Requirement already satisfied: scipy>=0.18 in /usr/local/lib/python3.7/dist-packages (from fitter) (1.4.1)\n",
            "Requirement already satisfied: click in /usr/local/lib/python3.7/dist-packages (from fitter) (7.1.2)\n",
            "Requirement already satisfied: joblib in /usr/local/lib/python3.7/dist-packages (from fitter) (1.1.0)\n",
            "Requirement already satisfied: matplotlib in /usr/local/lib/python3.7/dist-packages (from fitter) (3.2.2)\n",
            "Requirement already satisfied: numpy in /usr/local/lib/python3.7/dist-packages (from fitter) (1.21.6)\n",
            "Requirement already satisfied: colorlog in /usr/local/lib/python3.7/dist-packages (from easydev->fitter) (6.6.0)\n",
            "Requirement already satisfied: pexpect in /usr/local/lib/python3.7/dist-packages (from easydev->fitter) (4.8.0)\n",
            "Requirement already satisfied: colorama in /usr/local/lib/python3.7/dist-packages (from easydev->fitter) (0.4.4)\n",
            "Requirement already satisfied: cycler>=0.10 in /usr/local/lib/python3.7/dist-packages (from matplotlib->fitter) (0.11.0)\n",
            "Requirement already satisfied: kiwisolver>=1.0.1 in /usr/local/lib/python3.7/dist-packages (from matplotlib->fitter) (1.4.2)\n",
            "Requirement already satisfied: python-dateutil>=2.1 in /usr/local/lib/python3.7/dist-packages (from matplotlib->fitter) (2.8.2)\n",
            "Requirement already satisfied: pyparsing!=2.0.4,!=2.1.2,!=2.1.6,>=2.0.1 in /usr/local/lib/python3.7/dist-packages (from matplotlib->fitter) (3.0.9)\n",
            "Requirement already satisfied: typing-extensions in /usr/local/lib/python3.7/dist-packages (from kiwisolver>=1.0.1->matplotlib->fitter) (4.2.0)\n",
            "Requirement already satisfied: six>=1.5 in /usr/local/lib/python3.7/dist-packages (from python-dateutil>=2.1->matplotlib->fitter) (1.15.0)\n",
            "Requirement already satisfied: pytz>=2017.3 in /usr/local/lib/python3.7/dist-packages (from pandas->fitter) (2022.1)\n",
            "Requirement already satisfied: ptyprocess>=0.5 in /usr/local/lib/python3.7/dist-packages (from pexpect->easydev->fitter) (0.7.0)\n"
          ]
        }
      ],
      "source": [
        "!pip install fitter"
      ]
    },
    {
      "cell_type": "code",
      "execution_count": 12,
      "metadata": {
        "id": "OMnikU9tcGZC"
      },
      "outputs": [],
      "source": [
        "import pandas as pd\n",
        "import scipy as sc\n",
        "import numpy as np\n",
        "import seaborn as sns\n",
        "import matplotlib\n",
        "import matplotlib.pyplot as plt\n",
        "from sklearn.preprocessing import MinMaxScaler\n",
        "\n",
        "from fitter import Fitter, get_common_distributions, get_distributions"
      ]
    },
    {
      "cell_type": "markdown",
      "metadata": {
        "id": "2Z7mpqelXu1g"
      },
      "source": [
        "The dataset that we will be using for this project is available on the UCI ML library at the below URL:\n",
        "https://archive.ics.uci.edu/ml/datasets/parkinsons+telemonitoring"
      ]
    },
    {
      "cell_type": "code",
      "execution_count": 13,
      "metadata": {
        "colab": {
          "base_uri": "https://localhost:8080/",
          "height": 300
        },
        "id": "LpN980sVcPLc",
        "outputId": "55b9ad14-195f-4d18-af4d-9b54a7a64f65"
      },
      "outputs": [
        {
          "output_type": "execute_result",
          "data": {
            "text/plain": [
              "   subject#  age  sex  test_time  motor_UPDRS  total_UPDRS  Jitter(%)  \\\n",
              "0         1   72    0     5.6431       28.199       34.398    0.00662   \n",
              "1         1   72    0    12.6660       28.447       34.894    0.00300   \n",
              "2         1   72    0    19.6810       28.695       35.389    0.00481   \n",
              "3         1   72    0    25.6470       28.905       35.810    0.00528   \n",
              "4         1   72    0    33.6420       29.187       36.375    0.00335   \n",
              "\n",
              "   Jitter(Abs)  Jitter:RAP  Jitter:PPQ5  ...  Shimmer(dB)  Shimmer:APQ3  \\\n",
              "0     0.000034     0.00401      0.00317  ...        0.230       0.01438   \n",
              "1     0.000017     0.00132      0.00150  ...        0.179       0.00994   \n",
              "2     0.000025     0.00205      0.00208  ...        0.181       0.00734   \n",
              "3     0.000027     0.00191      0.00264  ...        0.327       0.01106   \n",
              "4     0.000020     0.00093      0.00130  ...        0.176       0.00679   \n",
              "\n",
              "   Shimmer:APQ5  Shimmer:APQ11  Shimmer:DDA       NHR     HNR     RPDE  \\\n",
              "0       0.01309        0.01662      0.04314  0.014290  21.640  0.41888   \n",
              "1       0.01072        0.01689      0.02982  0.011112  27.183  0.43493   \n",
              "2       0.00844        0.01458      0.02202  0.020220  23.047  0.46222   \n",
              "3       0.01265        0.01963      0.03317  0.027837  24.445  0.48730   \n",
              "4       0.00929        0.01819      0.02036  0.011625  26.126  0.47188   \n",
              "\n",
              "       DFA      PPE  \n",
              "0  0.54842  0.16006  \n",
              "1  0.56477  0.10810  \n",
              "2  0.54405  0.21014  \n",
              "3  0.57794  0.33277  \n",
              "4  0.56122  0.19361  \n",
              "\n",
              "[5 rows x 22 columns]"
            ],
            "text/html": [
              "\n",
              "  <div id=\"df-aac2de46-d099-45f9-9410-308661273626\">\n",
              "    <div class=\"colab-df-container\">\n",
              "      <div>\n",
              "<style scoped>\n",
              "    .dataframe tbody tr th:only-of-type {\n",
              "        vertical-align: middle;\n",
              "    }\n",
              "\n",
              "    .dataframe tbody tr th {\n",
              "        vertical-align: top;\n",
              "    }\n",
              "\n",
              "    .dataframe thead th {\n",
              "        text-align: right;\n",
              "    }\n",
              "</style>\n",
              "<table border=\"1\" class=\"dataframe\">\n",
              "  <thead>\n",
              "    <tr style=\"text-align: right;\">\n",
              "      <th></th>\n",
              "      <th>subject#</th>\n",
              "      <th>age</th>\n",
              "      <th>sex</th>\n",
              "      <th>test_time</th>\n",
              "      <th>motor_UPDRS</th>\n",
              "      <th>total_UPDRS</th>\n",
              "      <th>Jitter(%)</th>\n",
              "      <th>Jitter(Abs)</th>\n",
              "      <th>Jitter:RAP</th>\n",
              "      <th>Jitter:PPQ5</th>\n",
              "      <th>...</th>\n",
              "      <th>Shimmer(dB)</th>\n",
              "      <th>Shimmer:APQ3</th>\n",
              "      <th>Shimmer:APQ5</th>\n",
              "      <th>Shimmer:APQ11</th>\n",
              "      <th>Shimmer:DDA</th>\n",
              "      <th>NHR</th>\n",
              "      <th>HNR</th>\n",
              "      <th>RPDE</th>\n",
              "      <th>DFA</th>\n",
              "      <th>PPE</th>\n",
              "    </tr>\n",
              "  </thead>\n",
              "  <tbody>\n",
              "    <tr>\n",
              "      <th>0</th>\n",
              "      <td>1</td>\n",
              "      <td>72</td>\n",
              "      <td>0</td>\n",
              "      <td>5.6431</td>\n",
              "      <td>28.199</td>\n",
              "      <td>34.398</td>\n",
              "      <td>0.00662</td>\n",
              "      <td>0.000034</td>\n",
              "      <td>0.00401</td>\n",
              "      <td>0.00317</td>\n",
              "      <td>...</td>\n",
              "      <td>0.230</td>\n",
              "      <td>0.01438</td>\n",
              "      <td>0.01309</td>\n",
              "      <td>0.01662</td>\n",
              "      <td>0.04314</td>\n",
              "      <td>0.014290</td>\n",
              "      <td>21.640</td>\n",
              "      <td>0.41888</td>\n",
              "      <td>0.54842</td>\n",
              "      <td>0.16006</td>\n",
              "    </tr>\n",
              "    <tr>\n",
              "      <th>1</th>\n",
              "      <td>1</td>\n",
              "      <td>72</td>\n",
              "      <td>0</td>\n",
              "      <td>12.6660</td>\n",
              "      <td>28.447</td>\n",
              "      <td>34.894</td>\n",
              "      <td>0.00300</td>\n",
              "      <td>0.000017</td>\n",
              "      <td>0.00132</td>\n",
              "      <td>0.00150</td>\n",
              "      <td>...</td>\n",
              "      <td>0.179</td>\n",
              "      <td>0.00994</td>\n",
              "      <td>0.01072</td>\n",
              "      <td>0.01689</td>\n",
              "      <td>0.02982</td>\n",
              "      <td>0.011112</td>\n",
              "      <td>27.183</td>\n",
              "      <td>0.43493</td>\n",
              "      <td>0.56477</td>\n",
              "      <td>0.10810</td>\n",
              "    </tr>\n",
              "    <tr>\n",
              "      <th>2</th>\n",
              "      <td>1</td>\n",
              "      <td>72</td>\n",
              "      <td>0</td>\n",
              "      <td>19.6810</td>\n",
              "      <td>28.695</td>\n",
              "      <td>35.389</td>\n",
              "      <td>0.00481</td>\n",
              "      <td>0.000025</td>\n",
              "      <td>0.00205</td>\n",
              "      <td>0.00208</td>\n",
              "      <td>...</td>\n",
              "      <td>0.181</td>\n",
              "      <td>0.00734</td>\n",
              "      <td>0.00844</td>\n",
              "      <td>0.01458</td>\n",
              "      <td>0.02202</td>\n",
              "      <td>0.020220</td>\n",
              "      <td>23.047</td>\n",
              "      <td>0.46222</td>\n",
              "      <td>0.54405</td>\n",
              "      <td>0.21014</td>\n",
              "    </tr>\n",
              "    <tr>\n",
              "      <th>3</th>\n",
              "      <td>1</td>\n",
              "      <td>72</td>\n",
              "      <td>0</td>\n",
              "      <td>25.6470</td>\n",
              "      <td>28.905</td>\n",
              "      <td>35.810</td>\n",
              "      <td>0.00528</td>\n",
              "      <td>0.000027</td>\n",
              "      <td>0.00191</td>\n",
              "      <td>0.00264</td>\n",
              "      <td>...</td>\n",
              "      <td>0.327</td>\n",
              "      <td>0.01106</td>\n",
              "      <td>0.01265</td>\n",
              "      <td>0.01963</td>\n",
              "      <td>0.03317</td>\n",
              "      <td>0.027837</td>\n",
              "      <td>24.445</td>\n",
              "      <td>0.48730</td>\n",
              "      <td>0.57794</td>\n",
              "      <td>0.33277</td>\n",
              "    </tr>\n",
              "    <tr>\n",
              "      <th>4</th>\n",
              "      <td>1</td>\n",
              "      <td>72</td>\n",
              "      <td>0</td>\n",
              "      <td>33.6420</td>\n",
              "      <td>29.187</td>\n",
              "      <td>36.375</td>\n",
              "      <td>0.00335</td>\n",
              "      <td>0.000020</td>\n",
              "      <td>0.00093</td>\n",
              "      <td>0.00130</td>\n",
              "      <td>...</td>\n",
              "      <td>0.176</td>\n",
              "      <td>0.00679</td>\n",
              "      <td>0.00929</td>\n",
              "      <td>0.01819</td>\n",
              "      <td>0.02036</td>\n",
              "      <td>0.011625</td>\n",
              "      <td>26.126</td>\n",
              "      <td>0.47188</td>\n",
              "      <td>0.56122</td>\n",
              "      <td>0.19361</td>\n",
              "    </tr>\n",
              "  </tbody>\n",
              "</table>\n",
              "<p>5 rows × 22 columns</p>\n",
              "</div>\n",
              "      <button class=\"colab-df-convert\" onclick=\"convertToInteractive('df-aac2de46-d099-45f9-9410-308661273626')\"\n",
              "              title=\"Convert this dataframe to an interactive table.\"\n",
              "              style=\"display:none;\">\n",
              "        \n",
              "  <svg xmlns=\"http://www.w3.org/2000/svg\" height=\"24px\"viewBox=\"0 0 24 24\"\n",
              "       width=\"24px\">\n",
              "    <path d=\"M0 0h24v24H0V0z\" fill=\"none\"/>\n",
              "    <path d=\"M18.56 5.44l.94 2.06.94-2.06 2.06-.94-2.06-.94-.94-2.06-.94 2.06-2.06.94zm-11 1L8.5 8.5l.94-2.06 2.06-.94-2.06-.94L8.5 2.5l-.94 2.06-2.06.94zm10 10l.94 2.06.94-2.06 2.06-.94-2.06-.94-.94-2.06-.94 2.06-2.06.94z\"/><path d=\"M17.41 7.96l-1.37-1.37c-.4-.4-.92-.59-1.43-.59-.52 0-1.04.2-1.43.59L10.3 9.45l-7.72 7.72c-.78.78-.78 2.05 0 2.83L4 21.41c.39.39.9.59 1.41.59.51 0 1.02-.2 1.41-.59l7.78-7.78 2.81-2.81c.8-.78.8-2.07 0-2.86zM5.41 20L4 18.59l7.72-7.72 1.47 1.35L5.41 20z\"/>\n",
              "  </svg>\n",
              "      </button>\n",
              "      \n",
              "  <style>\n",
              "    .colab-df-container {\n",
              "      display:flex;\n",
              "      flex-wrap:wrap;\n",
              "      gap: 12px;\n",
              "    }\n",
              "\n",
              "    .colab-df-convert {\n",
              "      background-color: #E8F0FE;\n",
              "      border: none;\n",
              "      border-radius: 50%;\n",
              "      cursor: pointer;\n",
              "      display: none;\n",
              "      fill: #1967D2;\n",
              "      height: 32px;\n",
              "      padding: 0 0 0 0;\n",
              "      width: 32px;\n",
              "    }\n",
              "\n",
              "    .colab-df-convert:hover {\n",
              "      background-color: #E2EBFA;\n",
              "      box-shadow: 0px 1px 2px rgba(60, 64, 67, 0.3), 0px 1px 3px 1px rgba(60, 64, 67, 0.15);\n",
              "      fill: #174EA6;\n",
              "    }\n",
              "\n",
              "    [theme=dark] .colab-df-convert {\n",
              "      background-color: #3B4455;\n",
              "      fill: #D2E3FC;\n",
              "    }\n",
              "\n",
              "    [theme=dark] .colab-df-convert:hover {\n",
              "      background-color: #434B5C;\n",
              "      box-shadow: 0px 1px 3px 1px rgba(0, 0, 0, 0.15);\n",
              "      filter: drop-shadow(0px 1px 2px rgba(0, 0, 0, 0.3));\n",
              "      fill: #FFFFFF;\n",
              "    }\n",
              "  </style>\n",
              "\n",
              "      <script>\n",
              "        const buttonEl =\n",
              "          document.querySelector('#df-aac2de46-d099-45f9-9410-308661273626 button.colab-df-convert');\n",
              "        buttonEl.style.display =\n",
              "          google.colab.kernel.accessAllowed ? 'block' : 'none';\n",
              "\n",
              "        async function convertToInteractive(key) {\n",
              "          const element = document.querySelector('#df-aac2de46-d099-45f9-9410-308661273626');\n",
              "          const dataTable =\n",
              "            await google.colab.kernel.invokeFunction('convertToInteractive',\n",
              "                                                     [key], {});\n",
              "          if (!dataTable) return;\n",
              "\n",
              "          const docLinkHtml = 'Like what you see? Visit the ' +\n",
              "            '<a target=\"_blank\" href=https://colab.research.google.com/notebooks/data_table.ipynb>data table notebook</a>'\n",
              "            + ' to learn more about interactive tables.';\n",
              "          element.innerHTML = '';\n",
              "          dataTable['output_type'] = 'display_data';\n",
              "          await google.colab.output.renderOutput(dataTable, element);\n",
              "          const docLink = document.createElement('div');\n",
              "          docLink.innerHTML = docLinkHtml;\n",
              "          element.appendChild(docLink);\n",
              "        }\n",
              "      </script>\n",
              "    </div>\n",
              "  </div>\n",
              "  "
            ]
          },
          "metadata": {},
          "execution_count": 13
        }
      ],
      "source": [
        "#Reading the dataset available at UCI ML library\n",
        "data_path=\"parkinsons_updrs.data\"\n",
        "dataset = pd.read_csv(data_path,sep='\\t')\n",
        "dataset.head()"
      ]
    },
    {
      "cell_type": "markdown",
      "metadata": {
        "id": "UvkXKynwX-Jy"
      },
      "source": [
        "Let's take a quick look at the data and the column names."
      ]
    },
    {
      "cell_type": "code",
      "execution_count": 14,
      "metadata": {
        "colab": {
          "base_uri": "https://localhost:8080/"
        },
        "id": "5upZlky-Yr12",
        "outputId": "8c9273d7-9829-427d-8ecb-c6eb59499ef0"
      },
      "outputs": [
        {
          "output_type": "stream",
          "name": "stdout",
          "text": [
            "Number of Rows in Dataset: 5875\n",
            "\n",
            "\n",
            "Data Column Names: Index(['subject#', 'age', 'sex', 'test_time', 'motor_UPDRS', 'total_UPDRS',\n",
            "       'Jitter(%)', 'Jitter(Abs)', 'Jitter:RAP', 'Jitter:PPQ5', 'Jitter:DDP',\n",
            "       'Shimmer', 'Shimmer(dB)', 'Shimmer:APQ3', 'Shimmer:APQ5',\n",
            "       'Shimmer:APQ11', 'Shimmer:DDA', 'NHR', 'HNR', 'RPDE', 'DFA', 'PPE'],\n",
            "      dtype='object')\n",
            "\n",
            "\n",
            "Length of Column Name List: 22\n",
            "\n",
            "\n",
            "Type of Columns : subject#           int64\n",
            "age                int64\n",
            "sex                int64\n",
            "test_time        float64\n",
            "motor_UPDRS      float64\n",
            "total_UPDRS      float64\n",
            "Jitter(%)        float64\n",
            "Jitter(Abs)      float64\n",
            "Jitter:RAP       float64\n",
            "Jitter:PPQ5      float64\n",
            "Jitter:DDP       float64\n",
            "Shimmer          float64\n",
            "Shimmer(dB)      float64\n",
            "Shimmer:APQ3     float64\n",
            "Shimmer:APQ5     float64\n",
            "Shimmer:APQ11    float64\n",
            "Shimmer:DDA      float64\n",
            "NHR              float64\n",
            "HNR              float64\n",
            "RPDE             float64\n",
            "DFA              float64\n",
            "PPE              float64\n",
            "dtype: object\n"
          ]
        }
      ],
      "source": [
        "print('Number of Rows in Dataset:',len(dataset))\n",
        "print('\\n\\nData Column Names:',dataset.columns)\n",
        "print('\\n\\nLength of Column Name List:',len(dataset.columns))\n",
        "print('\\n\\nType of Columns :',dataset.dtypes)"
      ]
    },
    {
      "cell_type": "markdown",
      "metadata": {
        "id": "ZKjdSCSyZThw"
      },
      "source": [
        "As per the data dictionary and as per the data we have, we can see that sex is a categorical variable where the value 0 is equivalent to male and 1 is equivalent to female. Let us check the cleanliness of this categorical variable by checking for distinct values."
      ]
    },
    {
      "cell_type": "code",
      "execution_count": 15,
      "metadata": {
        "colab": {
          "base_uri": "https://localhost:8080/"
        },
        "id": "DHgcixPvZqq3",
        "outputId": "96f00266-81ad-4bc9-fba9-07c6e72ecada"
      },
      "outputs": [
        {
          "output_type": "execute_result",
          "data": {
            "text/plain": [
              "array([0, 1])"
            ]
          },
          "metadata": {},
          "execution_count": 15
        }
      ],
      "source": [
        "dataset.sex.unique()"
      ]
    },
    {
      "cell_type": "markdown",
      "metadata": {
        "id": "j_3Qyz6eYG4m"
      },
      "source": [
        "We can see that there are no unusual values apart from the expected values of 0 and 1 in the sex column.\n",
        "\n",
        "We will now convert the subject# and sex columns to object types, so that when we go ahead and begin our statistical analyses we don't include these columns in those analysis."
      ]
    },
    {
      "cell_type": "code",
      "execution_count": 16,
      "metadata": {
        "colab": {
          "base_uri": "https://localhost:8080/"
        },
        "id": "Gw1vzjquZg1M",
        "outputId": "dda10e60-4430-4fcb-9bbe-e2ea50e3c228"
      },
      "outputs": [
        {
          "output_type": "execute_result",
          "data": {
            "text/plain": [
              "subject#          object\n",
              "age                int64\n",
              "sex               object\n",
              "test_time        float64\n",
              "motor_UPDRS      float64\n",
              "total_UPDRS      float64\n",
              "Jitter(%)        float64\n",
              "Jitter(Abs)      float64\n",
              "Jitter:RAP       float64\n",
              "Jitter:PPQ5      float64\n",
              "Jitter:DDP       float64\n",
              "Shimmer          float64\n",
              "Shimmer(dB)      float64\n",
              "Shimmer:APQ3     float64\n",
              "Shimmer:APQ5     float64\n",
              "Shimmer:APQ11    float64\n",
              "Shimmer:DDA      float64\n",
              "NHR              float64\n",
              "HNR              float64\n",
              "RPDE             float64\n",
              "DFA              float64\n",
              "PPE              float64\n",
              "dtype: object"
            ]
          },
          "metadata": {},
          "execution_count": 16
        }
      ],
      "source": [
        "dataset['subject#']=dataset['subject#'].astype(str)\n",
        "dataset['sex']=dataset['sex'].astype(str)\n",
        "dataset.dtypes"
      ]
    },
    {
      "cell_type": "markdown",
      "metadata": {
        "id": "NJ_T2pxGbHbH"
      },
      "source": [
        "We will now check the five point summary of each of the numerical features to see if there are any anomalies or unusual ranges of data"
      ]
    },
    {
      "cell_type": "code",
      "execution_count": 17,
      "metadata": {
        "colab": {
          "base_uri": "https://localhost:8080/",
          "height": 364
        },
        "id": "_WWAU4SyaHf8",
        "outputId": "6b5ee5b8-9911-47ba-d8f2-c96353ac3cc7"
      },
      "outputs": [
        {
          "output_type": "execute_result",
          "data": {
            "text/plain": [
              "               age    test_time  motor_UPDRS  total_UPDRS    Jitter(%)  \\\n",
              "count  5875.000000  5875.000000  5875.000000  5875.000000  5875.000000   \n",
              "mean     64.804936    92.863722    21.296229    29.018942     0.006154   \n",
              "std       8.821524    53.445602     8.129282    10.700283     0.005624   \n",
              "min      36.000000    -4.262500     5.037700     7.000000     0.000830   \n",
              "25%      58.000000    46.847500    15.000000    21.371000     0.003580   \n",
              "50%      65.000000    91.523000    20.871000    27.576000     0.004900   \n",
              "75%      72.000000   138.445000    27.596500    36.399000     0.006800   \n",
              "max      85.000000   215.490000    39.511000    54.992000     0.099990   \n",
              "\n",
              "       Jitter(Abs)   Jitter:RAP  Jitter:PPQ5   Jitter:DDP      Shimmer  \\\n",
              "count  5875.000000  5875.000000  5875.000000  5875.000000  5875.000000   \n",
              "mean      0.000044     0.002987     0.003277     0.008962     0.034035   \n",
              "std       0.000036     0.003124     0.003732     0.009371     0.025835   \n",
              "min       0.000002     0.000330     0.000430     0.000980     0.003060   \n",
              "25%       0.000022     0.001580     0.001820     0.004730     0.019120   \n",
              "50%       0.000034     0.002250     0.002490     0.006750     0.027510   \n",
              "75%       0.000053     0.003290     0.003460     0.009870     0.039750   \n",
              "max       0.000446     0.057540     0.069560     0.172630     0.268630   \n",
              "\n",
              "       Shimmer(dB)  Shimmer:APQ3  Shimmer:APQ5  Shimmer:APQ11  Shimmer:DDA  \\\n",
              "count  5875.000000   5875.000000   5875.000000    5875.000000  5875.000000   \n",
              "mean      0.310960      0.017156      0.020144       0.027481     0.051467   \n",
              "std       0.230254      0.013237      0.016664       0.019986     0.039711   \n",
              "min       0.026000      0.001610      0.001940       0.002490     0.004840   \n",
              "25%       0.175000      0.009280      0.010790       0.015665     0.027830   \n",
              "50%       0.253000      0.013700      0.015940       0.022710     0.041110   \n",
              "75%       0.365000      0.020575      0.023755       0.032715     0.061735   \n",
              "max       2.107000      0.162670      0.167020       0.275460     0.488020   \n",
              "\n",
              "               NHR          HNR         RPDE          DFA          PPE  \n",
              "count  5875.000000  5875.000000  5875.000000  5875.000000  5875.000000  \n",
              "mean      0.032120    21.679495     0.541473     0.653240     0.219589  \n",
              "std       0.059692     4.291096     0.100986     0.070902     0.091498  \n",
              "min       0.000286     1.659000     0.151020     0.514040     0.021983  \n",
              "25%       0.010955    19.406000     0.469785     0.596180     0.156340  \n",
              "50%       0.018448    21.920000     0.542250     0.643600     0.205500  \n",
              "75%       0.031463    24.444000     0.614045     0.711335     0.264490  \n",
              "max       0.748260    37.875000     0.966080     0.865600     0.731730  "
            ],
            "text/html": [
              "\n",
              "  <div id=\"df-9123a39e-2a6b-45d0-82dd-2e2a3e685a01\">\n",
              "    <div class=\"colab-df-container\">\n",
              "      <div>\n",
              "<style scoped>\n",
              "    .dataframe tbody tr th:only-of-type {\n",
              "        vertical-align: middle;\n",
              "    }\n",
              "\n",
              "    .dataframe tbody tr th {\n",
              "        vertical-align: top;\n",
              "    }\n",
              "\n",
              "    .dataframe thead th {\n",
              "        text-align: right;\n",
              "    }\n",
              "</style>\n",
              "<table border=\"1\" class=\"dataframe\">\n",
              "  <thead>\n",
              "    <tr style=\"text-align: right;\">\n",
              "      <th></th>\n",
              "      <th>age</th>\n",
              "      <th>test_time</th>\n",
              "      <th>motor_UPDRS</th>\n",
              "      <th>total_UPDRS</th>\n",
              "      <th>Jitter(%)</th>\n",
              "      <th>Jitter(Abs)</th>\n",
              "      <th>Jitter:RAP</th>\n",
              "      <th>Jitter:PPQ5</th>\n",
              "      <th>Jitter:DDP</th>\n",
              "      <th>Shimmer</th>\n",
              "      <th>Shimmer(dB)</th>\n",
              "      <th>Shimmer:APQ3</th>\n",
              "      <th>Shimmer:APQ5</th>\n",
              "      <th>Shimmer:APQ11</th>\n",
              "      <th>Shimmer:DDA</th>\n",
              "      <th>NHR</th>\n",
              "      <th>HNR</th>\n",
              "      <th>RPDE</th>\n",
              "      <th>DFA</th>\n",
              "      <th>PPE</th>\n",
              "    </tr>\n",
              "  </thead>\n",
              "  <tbody>\n",
              "    <tr>\n",
              "      <th>count</th>\n",
              "      <td>5875.000000</td>\n",
              "      <td>5875.000000</td>\n",
              "      <td>5875.000000</td>\n",
              "      <td>5875.000000</td>\n",
              "      <td>5875.000000</td>\n",
              "      <td>5875.000000</td>\n",
              "      <td>5875.000000</td>\n",
              "      <td>5875.000000</td>\n",
              "      <td>5875.000000</td>\n",
              "      <td>5875.000000</td>\n",
              "      <td>5875.000000</td>\n",
              "      <td>5875.000000</td>\n",
              "      <td>5875.000000</td>\n",
              "      <td>5875.000000</td>\n",
              "      <td>5875.000000</td>\n",
              "      <td>5875.000000</td>\n",
              "      <td>5875.000000</td>\n",
              "      <td>5875.000000</td>\n",
              "      <td>5875.000000</td>\n",
              "      <td>5875.000000</td>\n",
              "    </tr>\n",
              "    <tr>\n",
              "      <th>mean</th>\n",
              "      <td>64.804936</td>\n",
              "      <td>92.863722</td>\n",
              "      <td>21.296229</td>\n",
              "      <td>29.018942</td>\n",
              "      <td>0.006154</td>\n",
              "      <td>0.000044</td>\n",
              "      <td>0.002987</td>\n",
              "      <td>0.003277</td>\n",
              "      <td>0.008962</td>\n",
              "      <td>0.034035</td>\n",
              "      <td>0.310960</td>\n",
              "      <td>0.017156</td>\n",
              "      <td>0.020144</td>\n",
              "      <td>0.027481</td>\n",
              "      <td>0.051467</td>\n",
              "      <td>0.032120</td>\n",
              "      <td>21.679495</td>\n",
              "      <td>0.541473</td>\n",
              "      <td>0.653240</td>\n",
              "      <td>0.219589</td>\n",
              "    </tr>\n",
              "    <tr>\n",
              "      <th>std</th>\n",
              "      <td>8.821524</td>\n",
              "      <td>53.445602</td>\n",
              "      <td>8.129282</td>\n",
              "      <td>10.700283</td>\n",
              "      <td>0.005624</td>\n",
              "      <td>0.000036</td>\n",
              "      <td>0.003124</td>\n",
              "      <td>0.003732</td>\n",
              "      <td>0.009371</td>\n",
              "      <td>0.025835</td>\n",
              "      <td>0.230254</td>\n",
              "      <td>0.013237</td>\n",
              "      <td>0.016664</td>\n",
              "      <td>0.019986</td>\n",
              "      <td>0.039711</td>\n",
              "      <td>0.059692</td>\n",
              "      <td>4.291096</td>\n",
              "      <td>0.100986</td>\n",
              "      <td>0.070902</td>\n",
              "      <td>0.091498</td>\n",
              "    </tr>\n",
              "    <tr>\n",
              "      <th>min</th>\n",
              "      <td>36.000000</td>\n",
              "      <td>-4.262500</td>\n",
              "      <td>5.037700</td>\n",
              "      <td>7.000000</td>\n",
              "      <td>0.000830</td>\n",
              "      <td>0.000002</td>\n",
              "      <td>0.000330</td>\n",
              "      <td>0.000430</td>\n",
              "      <td>0.000980</td>\n",
              "      <td>0.003060</td>\n",
              "      <td>0.026000</td>\n",
              "      <td>0.001610</td>\n",
              "      <td>0.001940</td>\n",
              "      <td>0.002490</td>\n",
              "      <td>0.004840</td>\n",
              "      <td>0.000286</td>\n",
              "      <td>1.659000</td>\n",
              "      <td>0.151020</td>\n",
              "      <td>0.514040</td>\n",
              "      <td>0.021983</td>\n",
              "    </tr>\n",
              "    <tr>\n",
              "      <th>25%</th>\n",
              "      <td>58.000000</td>\n",
              "      <td>46.847500</td>\n",
              "      <td>15.000000</td>\n",
              "      <td>21.371000</td>\n",
              "      <td>0.003580</td>\n",
              "      <td>0.000022</td>\n",
              "      <td>0.001580</td>\n",
              "      <td>0.001820</td>\n",
              "      <td>0.004730</td>\n",
              "      <td>0.019120</td>\n",
              "      <td>0.175000</td>\n",
              "      <td>0.009280</td>\n",
              "      <td>0.010790</td>\n",
              "      <td>0.015665</td>\n",
              "      <td>0.027830</td>\n",
              "      <td>0.010955</td>\n",
              "      <td>19.406000</td>\n",
              "      <td>0.469785</td>\n",
              "      <td>0.596180</td>\n",
              "      <td>0.156340</td>\n",
              "    </tr>\n",
              "    <tr>\n",
              "      <th>50%</th>\n",
              "      <td>65.000000</td>\n",
              "      <td>91.523000</td>\n",
              "      <td>20.871000</td>\n",
              "      <td>27.576000</td>\n",
              "      <td>0.004900</td>\n",
              "      <td>0.000034</td>\n",
              "      <td>0.002250</td>\n",
              "      <td>0.002490</td>\n",
              "      <td>0.006750</td>\n",
              "      <td>0.027510</td>\n",
              "      <td>0.253000</td>\n",
              "      <td>0.013700</td>\n",
              "      <td>0.015940</td>\n",
              "      <td>0.022710</td>\n",
              "      <td>0.041110</td>\n",
              "      <td>0.018448</td>\n",
              "      <td>21.920000</td>\n",
              "      <td>0.542250</td>\n",
              "      <td>0.643600</td>\n",
              "      <td>0.205500</td>\n",
              "    </tr>\n",
              "    <tr>\n",
              "      <th>75%</th>\n",
              "      <td>72.000000</td>\n",
              "      <td>138.445000</td>\n",
              "      <td>27.596500</td>\n",
              "      <td>36.399000</td>\n",
              "      <td>0.006800</td>\n",
              "      <td>0.000053</td>\n",
              "      <td>0.003290</td>\n",
              "      <td>0.003460</td>\n",
              "      <td>0.009870</td>\n",
              "      <td>0.039750</td>\n",
              "      <td>0.365000</td>\n",
              "      <td>0.020575</td>\n",
              "      <td>0.023755</td>\n",
              "      <td>0.032715</td>\n",
              "      <td>0.061735</td>\n",
              "      <td>0.031463</td>\n",
              "      <td>24.444000</td>\n",
              "      <td>0.614045</td>\n",
              "      <td>0.711335</td>\n",
              "      <td>0.264490</td>\n",
              "    </tr>\n",
              "    <tr>\n",
              "      <th>max</th>\n",
              "      <td>85.000000</td>\n",
              "      <td>215.490000</td>\n",
              "      <td>39.511000</td>\n",
              "      <td>54.992000</td>\n",
              "      <td>0.099990</td>\n",
              "      <td>0.000446</td>\n",
              "      <td>0.057540</td>\n",
              "      <td>0.069560</td>\n",
              "      <td>0.172630</td>\n",
              "      <td>0.268630</td>\n",
              "      <td>2.107000</td>\n",
              "      <td>0.162670</td>\n",
              "      <td>0.167020</td>\n",
              "      <td>0.275460</td>\n",
              "      <td>0.488020</td>\n",
              "      <td>0.748260</td>\n",
              "      <td>37.875000</td>\n",
              "      <td>0.966080</td>\n",
              "      <td>0.865600</td>\n",
              "      <td>0.731730</td>\n",
              "    </tr>\n",
              "  </tbody>\n",
              "</table>\n",
              "</div>\n",
              "      <button class=\"colab-df-convert\" onclick=\"convertToInteractive('df-9123a39e-2a6b-45d0-82dd-2e2a3e685a01')\"\n",
              "              title=\"Convert this dataframe to an interactive table.\"\n",
              "              style=\"display:none;\">\n",
              "        \n",
              "  <svg xmlns=\"http://www.w3.org/2000/svg\" height=\"24px\"viewBox=\"0 0 24 24\"\n",
              "       width=\"24px\">\n",
              "    <path d=\"M0 0h24v24H0V0z\" fill=\"none\"/>\n",
              "    <path d=\"M18.56 5.44l.94 2.06.94-2.06 2.06-.94-2.06-.94-.94-2.06-.94 2.06-2.06.94zm-11 1L8.5 8.5l.94-2.06 2.06-.94-2.06-.94L8.5 2.5l-.94 2.06-2.06.94zm10 10l.94 2.06.94-2.06 2.06-.94-2.06-.94-.94-2.06-.94 2.06-2.06.94z\"/><path d=\"M17.41 7.96l-1.37-1.37c-.4-.4-.92-.59-1.43-.59-.52 0-1.04.2-1.43.59L10.3 9.45l-7.72 7.72c-.78.78-.78 2.05 0 2.83L4 21.41c.39.39.9.59 1.41.59.51 0 1.02-.2 1.41-.59l7.78-7.78 2.81-2.81c.8-.78.8-2.07 0-2.86zM5.41 20L4 18.59l7.72-7.72 1.47 1.35L5.41 20z\"/>\n",
              "  </svg>\n",
              "      </button>\n",
              "      \n",
              "  <style>\n",
              "    .colab-df-container {\n",
              "      display:flex;\n",
              "      flex-wrap:wrap;\n",
              "      gap: 12px;\n",
              "    }\n",
              "\n",
              "    .colab-df-convert {\n",
              "      background-color: #E8F0FE;\n",
              "      border: none;\n",
              "      border-radius: 50%;\n",
              "      cursor: pointer;\n",
              "      display: none;\n",
              "      fill: #1967D2;\n",
              "      height: 32px;\n",
              "      padding: 0 0 0 0;\n",
              "      width: 32px;\n",
              "    }\n",
              "\n",
              "    .colab-df-convert:hover {\n",
              "      background-color: #E2EBFA;\n",
              "      box-shadow: 0px 1px 2px rgba(60, 64, 67, 0.3), 0px 1px 3px 1px rgba(60, 64, 67, 0.15);\n",
              "      fill: #174EA6;\n",
              "    }\n",
              "\n",
              "    [theme=dark] .colab-df-convert {\n",
              "      background-color: #3B4455;\n",
              "      fill: #D2E3FC;\n",
              "    }\n",
              "\n",
              "    [theme=dark] .colab-df-convert:hover {\n",
              "      background-color: #434B5C;\n",
              "      box-shadow: 0px 1px 3px 1px rgba(0, 0, 0, 0.15);\n",
              "      filter: drop-shadow(0px 1px 2px rgba(0, 0, 0, 0.3));\n",
              "      fill: #FFFFFF;\n",
              "    }\n",
              "  </style>\n",
              "\n",
              "      <script>\n",
              "        const buttonEl =\n",
              "          document.querySelector('#df-9123a39e-2a6b-45d0-82dd-2e2a3e685a01 button.colab-df-convert');\n",
              "        buttonEl.style.display =\n",
              "          google.colab.kernel.accessAllowed ? 'block' : 'none';\n",
              "\n",
              "        async function convertToInteractive(key) {\n",
              "          const element = document.querySelector('#df-9123a39e-2a6b-45d0-82dd-2e2a3e685a01');\n",
              "          const dataTable =\n",
              "            await google.colab.kernel.invokeFunction('convertToInteractive',\n",
              "                                                     [key], {});\n",
              "          if (!dataTable) return;\n",
              "\n",
              "          const docLinkHtml = 'Like what you see? Visit the ' +\n",
              "            '<a target=\"_blank\" href=https://colab.research.google.com/notebooks/data_table.ipynb>data table notebook</a>'\n",
              "            + ' to learn more about interactive tables.';\n",
              "          element.innerHTML = '';\n",
              "          dataTable['output_type'] = 'display_data';\n",
              "          await google.colab.output.renderOutput(dataTable, element);\n",
              "          const docLink = document.createElement('div');\n",
              "          docLink.innerHTML = docLinkHtml;\n",
              "          element.appendChild(docLink);\n",
              "        }\n",
              "      </script>\n",
              "    </div>\n",
              "  </div>\n",
              "  "
            ]
          },
          "metadata": {},
          "execution_count": 17
        }
      ],
      "source": [
        "dataset.describe()"
      ]
    },
    {
      "cell_type": "markdown",
      "metadata": {
        "id": "WVvcw-B8Yeab"
      },
      "source": [
        "We are seeing that the minimum value for test_time is -4.262500. However, this value is not consistent with the data definition for this column which states that test_time is the number of days since the patient was recruited into the trial. A negative value in such a column does not make sense. \n",
        "Let us further check if there are a lot of such negative values in the test_time column."
      ]
    },
    {
      "cell_type": "code",
      "execution_count": 18,
      "metadata": {
        "colab": {
          "base_uri": "https://localhost:8080/"
        },
        "id": "5zjYZKBEd1Nl",
        "outputId": "a4ec9e06-33ea-4014-e925-bd5a743bee89"
      },
      "outputs": [
        {
          "output_type": "execute_result",
          "data": {
            "text/plain": [
              "12"
            ]
          },
          "metadata": {},
          "execution_count": 18
        }
      ],
      "source": [
        "dataset['test_time'].lt(0).sum()"
      ]
    },
    {
      "cell_type": "markdown",
      "metadata": {
        "id": "RlaMli-Re-tX"
      },
      "source": [
        "#### Dropping invalid records from the dataset\n",
        "\n",
        "We can see that there are 12 records which have an invalid test time. We will be removing these records from the dataset because they are invalid data since days since recruitment into trial cannot be a negative number.\n",
        "\n",
        "Additionally, we will also drop the Subject# column because it is an index column and is of no use to us."
      ]
    },
    {
      "cell_type": "code",
      "execution_count": 19,
      "metadata": {
        "colab": {
          "base_uri": "https://localhost:8080/"
        },
        "id": "9xnntSl1fIzc",
        "outputId": "797aa9d0-8b20-4089-8428-d7b2fff2f4fa"
      },
      "outputs": [
        {
          "output_type": "execute_result",
          "data": {
            "text/plain": [
              "age                int64\n",
              "sex                int64\n",
              "test_time        float64\n",
              "motor_UPDRS      float64\n",
              "total_UPDRS      float64\n",
              "Jitter(%)        float64\n",
              "Jitter(Abs)      float64\n",
              "Jitter:RAP       float64\n",
              "Jitter:PPQ5      float64\n",
              "Jitter:DDP       float64\n",
              "Shimmer          float64\n",
              "Shimmer(dB)      float64\n",
              "Shimmer:APQ3     float64\n",
              "Shimmer:APQ5     float64\n",
              "Shimmer:APQ11    float64\n",
              "Shimmer:DDA      float64\n",
              "NHR              float64\n",
              "HNR              float64\n",
              "RPDE             float64\n",
              "DFA              float64\n",
              "PPE              float64\n",
              "dtype: object"
            ]
          },
          "metadata": {},
          "execution_count": 19
        }
      ],
      "source": [
        "dataset=dataset[dataset['test_time']>0]\n",
        "dataset=dataset.drop('subject#',axis=1)\n",
        "#Convert 'sex' back to int type\n",
        "dataset['sex']=dataset['sex'].astype(int)\n",
        "dataset.dtypes"
      ]
    },
    {
      "cell_type": "markdown",
      "metadata": {
        "id": "l6yOx3zifgT7"
      },
      "source": [
        "We have only one categorical variable in our dataset,namely 'sex' and we can check to make sure that there is a fair balance of both the categories in our dataset."
      ]
    },
    {
      "cell_type": "code",
      "execution_count": 20,
      "metadata": {
        "colab": {
          "base_uri": "https://localhost:8080/"
        },
        "id": "4zp3oLrCfoqm",
        "outputId": "80ba2f0c-c325-4439-cb05-7d3b7905110b"
      },
      "outputs": [
        {
          "output_type": "execute_result",
          "data": {
            "text/plain": [
              "sex\n",
              "0    3996\n",
              "1    1867\n",
              "dtype: int64"
            ]
          },
          "metadata": {},
          "execution_count": 20
        }
      ],
      "source": [
        "dataset.groupby('sex').size()"
      ]
    },
    {
      "cell_type": "markdown",
      "metadata": {
        "id": "9xQflpvbxBRK"
      },
      "source": [
        "We can see that the dataset has more '0' records than '1'. i.e. More participants were Male rather than Female. We will not try to balance the counts for Male and Female just yet, because sex could be one of the important features in this dataset.\n",
        "\n",
        "\n",
        "#### Checking for missing values\n",
        "We will check for missing values in the dataset. We will first check for zeroes in any columns. If we find a 0, then we can determine if it may be a valid 0 value or not."
      ]
    },
    {
      "cell_type": "code",
      "execution_count": 21,
      "metadata": {
        "colab": {
          "base_uri": "https://localhost:8080/"
        },
        "id": "ME10uRzxwVkb",
        "outputId": "b334185e-563d-4fae-e3ef-9cd0be0178db"
      },
      "outputs": [
        {
          "output_type": "execute_result",
          "data": {
            "text/plain": [
              "age                 0\n",
              "sex              3996\n",
              "test_time           0\n",
              "motor_UPDRS         0\n",
              "total_UPDRS         0\n",
              "Jitter(%)           0\n",
              "Jitter(Abs)         0\n",
              "Jitter:RAP          0\n",
              "Jitter:PPQ5         0\n",
              "Jitter:DDP          0\n",
              "Shimmer             0\n",
              "Shimmer(dB)         0\n",
              "Shimmer:APQ3        0\n",
              "Shimmer:APQ5        0\n",
              "Shimmer:APQ11       0\n",
              "Shimmer:DDA         0\n",
              "NHR                 0\n",
              "HNR                 0\n",
              "RPDE                0\n",
              "DFA                 0\n",
              "PPE                 0\n",
              "dtype: int64"
            ]
          },
          "metadata": {},
          "execution_count": 21
        }
      ],
      "source": [
        "(dataset==0).sum(axis=0,numeric_only=True)"
      ]
    },
    {
      "cell_type": "markdown",
      "metadata": {
        "id": "gCwzlY-qyWGp"
      },
      "source": [
        "We will also check for any missing or Null values in the columns of the dataset."
      ]
    },
    {
      "cell_type": "code",
      "execution_count": 22,
      "metadata": {
        "colab": {
          "base_uri": "https://localhost:8080/"
        },
        "id": "vFVzQlIBxACT",
        "outputId": "84a30028-e94a-42e9-cb07-fce701c2d734"
      },
      "outputs": [
        {
          "output_type": "execute_result",
          "data": {
            "text/plain": [
              "age              0\n",
              "sex              0\n",
              "test_time        0\n",
              "motor_UPDRS      0\n",
              "total_UPDRS      0\n",
              "Jitter(%)        0\n",
              "Jitter(Abs)      0\n",
              "Jitter:RAP       0\n",
              "Jitter:PPQ5      0\n",
              "Jitter:DDP       0\n",
              "Shimmer          0\n",
              "Shimmer(dB)      0\n",
              "Shimmer:APQ3     0\n",
              "Shimmer:APQ5     0\n",
              "Shimmer:APQ11    0\n",
              "Shimmer:DDA      0\n",
              "NHR              0\n",
              "HNR              0\n",
              "RPDE             0\n",
              "DFA              0\n",
              "PPE              0\n",
              "dtype: int64"
            ]
          },
          "metadata": {},
          "execution_count": 22
        }
      ],
      "source": [
        "dataset.isnull().sum()"
      ]
    },
    {
      "cell_type": "markdown",
      "metadata": {
        "id": "w52npLVGk6Nv"
      },
      "source": [
        "#### Outlier analysis\n",
        "\n",
        "In order for us to do outlier analysis, we will be plotting Box and Whisker plots with Jittered data points. This will help us identify obvious outliers right away. Alongside them, we will be plotting density plots and determining the kind of distributions our predictor variables have."
      ]
    },
    {
      "cell_type": "code",
      "execution_count": 23,
      "metadata": {
        "colab": {
          "base_uri": "https://localhost:8080/",
          "height": 270
        },
        "id": "UuKYd8IHo0Eg",
        "outputId": "3bb76cfb-b410-4cad-fba4-5f8dd96ea5c2"
      },
      "outputs": [
        {
          "output_type": "execute_result",
          "data": {
            "text/plain": [
              "<matplotlib.axes._subplots.AxesSubplot at 0x7ff7d47ae990>"
            ]
          },
          "metadata": {},
          "execution_count": 23
        },
        {
          "output_type": "display_data",
          "data": {
            "text/plain": [
              "<Figure size 432x288 with 1 Axes>"
            ],
            "image/png": "[encoded data removed]"
          },
          "metadata": {
            "needs_background": "light"
          }
        }
      ],
      "source": [
        "sns.boxplot(y = \"age\", data = dataset)"
      ]
    },
    {
      "cell_type": "markdown",
      "metadata": {
        "id": "tbnlkQCRpC21"
      },
      "source": [
        "We can see that there are a couple of datapoints well below the lower whisker in this boxplot.As can be inferred from the five point summary, it is a series of readings for a patient whose age is 36. Since this age is much below the median age, we can discard any records with age <=36, so as to avoid skew in our data."
      ]
    },
    {
      "cell_type": "code",
      "execution_count": 24,
      "metadata": {
        "id": "MABbn4qoovY6"
      },
      "outputs": [],
      "source": [
        "  dataset=dataset[dataset['age']>36]"
      ]
    },
    {
      "cell_type": "code",
      "execution_count": 25,
      "metadata": {
        "id": "8amT-C74-F_R"
      },
      "outputs": [],
      "source": [
        "X1 = dataset.iloc[:,0:3]\n",
        "X2 = dataset.iloc[:,5:]\n",
        "X = pd.concat([X1,X2],axis = 1)\n",
        "Y = dataset.iloc[:,3:5]"
      ]
    },
    {
      "cell_type": "markdown",
      "metadata": {
        "id": "yJca4ZMd-xeH"
      },
      "source": [
        "While using the sklearn function of train_test_split, we will make sure to tune the parameters as per our need. First off, the test_size parameter specifies that the data needs to split into 75% train and 25% test data. The random state parameter is a random value, so that we get an identical split of the original dataset every time. The shuffle variable is set to true, especially since our dataset is ordered patient ID wise, and we would like the records to be shuffled first and then split."
      ]
    },
    {
      "cell_type": "code",
      "execution_count": 26,
      "metadata": {
        "colab": {
          "base_uri": "https://localhost:8080/"
        },
        "id": "j3yfZ6glCy9K",
        "outputId": "0ba2be36-ceab-47ab-81d3-e87e1a8ef308"
      },
      "outputs": [
        {
          "output_type": "stream",
          "name": "stdout",
          "text": [
            "Train (4321, 19) (4321, 2)\n",
            "Test (1441, 19) (1441, 2)\n"
          ]
        }
      ],
      "source": [
        "# load and summarize the dataset\n",
        "from sklearn.model_selection import train_test_split\n",
        "\n",
        "# split into train and test sets\n",
        "X_train, X_test, y_train, y_test = train_test_split(X, Y, test_size=0.25, random_state=157,shuffle=True)\n",
        "\n",
        "print('Train', X_train.shape, y_train.shape)\n",
        "print('Test', X_test.shape, y_test.shape)"
      ]
    },
    {
      "cell_type": "markdown",
      "metadata": {
        "id": "RK0E7_Poy_5w"
      },
      "source": [
        "Let's take a look at our training and test datasets to make sure the target variable values are evenly distributed"
      ]
    },
    {
      "cell_type": "code",
      "execution_count": 27,
      "metadata": {
        "colab": {
          "base_uri": "https://localhost:8080/",
          "height": 279
        },
        "id": "EhHZqHSdmRql",
        "outputId": "76875f05-1cce-4046-c6bf-303c099e828a"
      },
      "outputs": [
        {
          "output_type": "execute_result",
          "data": {
            "text/plain": [
              "Text(0.5, 1.0, 'Motor UPDRS Testing data')"
            ]
          },
          "metadata": {},
          "execution_count": 27
        },
        {
          "output_type": "display_data",
          "data": {
            "text/plain": [
              "<Figure size 504x252 with 2 Axes>"
            ],
            "image/png": "[encoded data removed]"
          },
          "metadata": {
            "needs_background": "light"
          }
        }
      ],
      "source": [
        "plt.rcParams[\"figure.figsize\"] = [7.00, 3.50]\n",
        "plt.rcParams[\"figure.autolayout\"] = True\n",
        "f, axes = plt.subplots(1, 2)\n",
        "axes[0].boxplot(y_train.iloc[:,0])\n",
        "axes[0].set_title(\"Motor UPDRS Training data\")\n",
        "axes[1].boxplot(y_test.iloc[:,0])\n",
        "axes[1].set_title(\"Motor UPDRS Testing data\")"
      ]
    },
    {
      "cell_type": "code",
      "execution_count": 28,
      "metadata": {
        "colab": {
          "base_uri": "https://localhost:8080/",
          "height": 279
        },
        "id": "4Khq17tj4GgS",
        "outputId": "be170882-8060-4b03-e138-8f1ed929c6b2"
      },
      "outputs": [
        {
          "output_type": "execute_result",
          "data": {
            "text/plain": [
              "Text(0.5, 1.0, 'Total UPDRS Testing data')"
            ]
          },
          "metadata": {},
          "execution_count": 28
        },
        {
          "output_type": "display_data",
          "data": {
            "text/plain": [
              "<Figure size 504x252 with 2 Axes>"
            ],
            "image/png": "[encoded data removed]"
          },
          "metadata": {
            "needs_background": "light"
          }
        }
      ],
      "source": [
        "plt.rcParams[\"figure.figsize\"] = [7.00, 3.50]\n",
        "plt.rcParams[\"figure.autolayout\"] = True\n",
        "f, axes = plt.subplots(1, 2)\n",
        "axes[0].boxplot(y_train.iloc[:,1])\n",
        "axes[0].set_title(\"Total UPDRS Training data\")\n",
        "axes[1].boxplot(y_test.iloc[:,1])\n",
        "axes[1].set_title(\"Total UPDRS Testing data\")"
      ]
    },
    {
      "cell_type": "markdown",
      "metadata": {
        "id": "oFdDjoxq-fdl"
      },
      "source": [
        "We were able to split the dataset evenly into train and test datasets."
      ]
    },
    {
      "cell_type": "markdown",
      "metadata": {
        "id": "AzihYgM9_hRa"
      },
      "source": [
        "### Feature Selection\n",
        "\n",
        "We will now move onto feature selection. We will be trying a few methods of feature selection in this subsection. \n",
        "\n",
        "### Pearson Correlation\n",
        "\n",
        "We will start with one of the most simple, Pearson correlation. For this purpose we will make use of the inbuild corr() function and then plot the correlation results on a heatmap. This will be done on the whole dataset so that we get a whole look at the correlation between not just the independent and dependent variables, but also at the correlation between the independent variables and take necessary steps to reduce multicollinearity."
      ]
    },
    {
      "cell_type": "code",
      "execution_count": 29,
      "metadata": {
        "colab": {
          "base_uri": "https://localhost:8080/",
          "height": 945
        },
        "id": "vch4vjnBAWQH",
        "outputId": "7c0e1e51-e055-42f4-8ccd-276a9da65bab"
      },
      "outputs": [
        {
          "output_type": "display_data",
          "data": {
            "text/plain": [
              "<Figure size 1080x936 with 2 Axes>"
            ],
            "image/png": "[encoded data removed]"
          },
          "metadata": {
            "needs_background": "light"
          }
        }
      ],
      "source": [
        "#Using Pearson Correlation\n",
        "plt.figure(figsize=(15,13))\n",
        "cor=dataset.corr()\n",
        "sns.heatmap(cor, annot=True, cmap=plt.cm.Reds)\n",
        "plt.show()"
      ]
    },
    {
      "cell_type": "markdown",
      "metadata": {
        "id": "btiefWCpAFE9"
      },
      "source": [
        "We can a few observations from this heatmap:\n",
        "\n",
        "1. Both the target variables - motor_UPDRS and total_UPDRS are highly correlated to each other.\n",
        "2. The 5 Jitter variables are highly correlated to each other, this means we should be retaining only one of the Jitter variables.\n",
        "3. The 6 Shimmer variables are highly correlated to each other, this means we should be retaining only one of the Shimmer variables.\n",
        "4. We can also see a decent level of correlation between the Shimmer and Jitter variables.\n",
        "5. There are no independent variables which have a high correlation to either of our two target variables.\n",
        "\n",
        "Let us filter out the relevant variables based on the correlation calculated in the heatmap.\n",
        "\n",
        "Below are the relevant features that are correlated to the first target variable - motor_UPDRS"
      ]
    },
    {
      "cell_type": "code",
      "execution_count": 30,
      "metadata": {
        "colab": {
          "base_uri": "https://localhost:8080/"
        },
        "id": "iNZfhySDMDND",
        "outputId": "db905e63-b5bd-4a5b-fea5-d59924ce4ba2"
      },
      "outputs": [
        {
          "output_type": "execute_result",
          "data": {
            "text/plain": [
              "age              0.220008\n",
              "motor_UPDRS      1.000000\n",
              "total_UPDRS      0.945718\n",
              "Shimmer:APQ11    0.124059\n",
              "HNR              0.151510\n",
              "RPDE             0.126663\n",
              "DFA              0.134748\n",
              "PPE              0.151100\n",
              "Name: motor_UPDRS, dtype: float64"
            ]
          },
          "metadata": {},
          "execution_count": 30
        }
      ],
      "source": [
        "#Correlation with output variable\n",
        "cor_target = abs(cor['motor_UPDRS'])\n",
        "#Selecting highly correlated features\n",
        "relevant_features = cor_target[cor_target>0.1]\n",
        "relevant_features"
      ]
    },
    {
      "cell_type": "markdown",
      "metadata": {
        "id": "LQhkVO-aBHVd"
      },
      "source": [
        "Below are the independent variables that are correlated to the second target variable - total_UPDRS"
      ]
    },
    {
      "cell_type": "code",
      "execution_count": 31,
      "metadata": {
        "colab": {
          "base_uri": "https://localhost:8080/"
        },
        "id": "prrzYwuOKfz3",
        "outputId": "a97f83fc-891c-493c-c8d2-44ade7005d2d"
      },
      "outputs": [
        {
          "output_type": "execute_result",
          "data": {
            "text/plain": [
              "age              0.255128\n",
              "motor_UPDRS      0.945718\n",
              "total_UPDRS      1.000000\n",
              "Shimmer:APQ11    0.106798\n",
              "HNR              0.155659\n",
              "RPDE             0.154517\n",
              "DFA              0.133730\n",
              "PPE              0.143350\n",
              "Name: total_UPDRS, dtype: float64"
            ]
          },
          "metadata": {},
          "execution_count": 31
        }
      ],
      "source": [
        "#Correlation with second output variable\n",
        "cor_target = abs(cor['total_UPDRS'])\n",
        "#Selecting highly correlated features\n",
        "relevant_features = cor_target[cor_target>0.1]\n",
        "relevant_features"
      ]
    },
    {
      "cell_type": "markdown",
      "metadata": {
        "id": "ZhxGIPnTBRFo"
      },
      "source": [
        "Since we are only seeing very low correlation values and as discussed earlier about the heatmap, we are seeing very less correlation to either of the target variables, we can attempt other methods of feature selection.\n",
        "\n",
        "### F-score\n",
        "\n",
        "The f-score is a measure of correlation, and the higher it is for a feature, the more likely we are to keep it in our final model. In our case we want to predict two random variables y, this means that we have to look at the correlations with each of them. So first we can make a bar-plot with f-scores the first variable motor UPDRS."
      ]
    },
    {
      "cell_type": "code",
      "execution_count": 32,
      "metadata": {
        "id": "GMDXLj__pGiu"
      },
      "outputs": [],
      "source": [
        "cols=list(dataset.columns)\n",
        "cols.remove('motor_UPDRS')\n",
        "cols.remove('total_UPDRS')\n",
        "cols=np.array(cols)"
      ]
    },
    {
      "cell_type": "code",
      "execution_count": 33,
      "metadata": {
        "colab": {
          "base_uri": "https://localhost:8080/",
          "height": 600
        },
        "id": "zm3QRTyBr9sR",
        "outputId": "2a29eee4-afa5-48d9-b238-5891555e2e17"
      },
      "outputs": [
        {
          "output_type": "stream",
          "name": "stdout",
          "text": [
            "Feature 0: 219.126592\n",
            "Feature 1: 0.495753\n",
            "Feature 2: 19.212765\n",
            "Feature 3: 28.308949\n",
            "Feature 4: 7.040995\n",
            "Feature 5: 21.829491\n",
            "Feature 6: 23.937857\n",
            "Feature 7: 21.834703\n",
            "Feature 8: 39.454326\n",
            "Feature 9: 45.397221\n",
            "Feature 10: 27.377488\n",
            "Feature 11: 31.050990\n",
            "Feature 12: 66.094167\n",
            "Feature 13: 27.376410\n",
            "Feature 14: 24.592722\n",
            "Feature 15: 108.138546\n",
            "Feature 16: 75.592208\n",
            "Feature 17: 79.052936\n",
            "Feature 18: 104.218618\n"
          ]
        },
        {
          "output_type": "display_data",
          "data": {
            "text/plain": [
              "<Figure size 504x252 with 1 Axes>"
            ],
            "image/png": "[encoded data removed]"
          },
          "metadata": {
            "needs_background": "light"
          }
        }
      ],
      "source": [
        "from sklearn.datasets import make_regression\n",
        "from sklearn.model_selection import train_test_split\n",
        "from sklearn.feature_selection import SelectKBest\n",
        "from sklearn.feature_selection import f_regression\n",
        "from sklearn.feature_selection import f_classif\n",
        "from matplotlib import pyplot\n",
        " \n",
        "# feature selection\n",
        "def select_features(X_train, y_train, X_test):\n",
        "\t# configure to select all features\n",
        "\tfs = SelectKBest(score_func=f_regression, k='all')\n",
        "\t# learn relationship from training data\n",
        "\tfs.fit(X_train, y_train)\n",
        "\t# transform train input data\n",
        "\tX_train_fs = fs.transform(X_train)\n",
        "\t# transform test input data\n",
        "\tX_test_fs = fs.transform(X_test)\n",
        "\treturn X_train_fs, X_test_fs, fs\n",
        "\n",
        "# feature selection\n",
        "X_train_fs, X_test_fs, fs = select_features(X_train, y_train.iloc[:,0], X_test)\n",
        "# what are scores for the features\n",
        "for i in range(len(fs.scores_)):\n",
        "\tprint('Feature %d: %f' % (i, fs.scores_[i]))\n",
        "\n",
        "# plot the scores\n",
        "pyplot.bar([cols[i] for i in range(len(cols))],fs.scores_)\n",
        "pyplot.xticks(rotation=90)\n",
        "pyplot.show()"
      ]
    },
    {
      "cell_type": "markdown",
      "metadata": {
        "id": "klxknJ1VEVQ1"
      },
      "source": [
        "The top important features are 0,18,15,16,17,12 and 9."
      ]
    },
    {
      "cell_type": "markdown",
      "metadata": {
        "id": "1J4appr9LJLD"
      },
      "source": [
        "We will now plot the f-scores of the correlation with the second variable - total_UPDRS"
      ]
    },
    {
      "cell_type": "code",
      "execution_count": 34,
      "metadata": {
        "colab": {
          "base_uri": "https://localhost:8080/",
          "height": 600
        },
        "id": "nLqFcm3NuZPv",
        "outputId": "c1e43cc3-5fcb-4f83-f1a2-b8d60f6d0edd"
      },
      "outputs": [
        {
          "output_type": "stream",
          "name": "stdout",
          "text": [
            "Feature 0: 304.395446\n",
            "Feature 1: 11.985504\n",
            "Feature 2: 21.846901\n",
            "Feature 3: 20.055545\n",
            "Feature 4: 12.159860\n",
            "Feature 5: 15.543332\n",
            "Feature 6: 15.285543\n",
            "Feature 7: 15.546400\n",
            "Feature 8: 28.373318\n",
            "Feature 9: 32.736510\n",
            "Feature 10: 21.169347\n",
            "Feature 11: 22.361782\n",
            "Feature 12: 46.955339\n",
            "Feature 13: 21.169153\n",
            "Feature 14: 15.080944\n",
            "Feature 15: 110.881109\n",
            "Feature 16: 109.993625\n",
            "Feature 17: 78.738572\n",
            "Feature 18: 88.431337\n"
          ]
        },
        {
          "output_type": "display_data",
          "data": {
            "text/plain": [
              "<Figure size 504x252 with 1 Axes>"
            ],
            "image/png": "[encoded data removed]"
          },
          "metadata": {
            "needs_background": "light"
          }
        }
      ],
      "source": [
        "# feature selection\n",
        "X_train_fs, X_test_fs, fs = select_features(X_train, y_train.iloc[:,1], X_test)\n",
        "# what are scores for the features\n",
        "for i in range(len(fs.scores_)):\n",
        "\tprint('Feature %d: %f' % (i, fs.scores_[i]))\n",
        "\n",
        "# plot the scores\n",
        "pyplot.bar([cols[i] for i in range(len(cols))],fs.scores_)\n",
        "pyplot.xticks(rotation=90)\n",
        "pyplot.show()"
      ]
    },
    {
      "cell_type": "markdown",
      "metadata": {
        "id": "v3V5jhfPEdGg"
      },
      "source": [
        "The top important features are : 0,15,16,18,17,12 and 9."
      ]
    },
    {
      "cell_type": "markdown",
      "metadata": {
        "id": "2xp3SuaSEkh6"
      },
      "source": [
        "### Mutual Information Feature Selection\n",
        "\n",
        "This is a measure derived from information theory. Mutual information is calculated between two variables and measures the reduction of uncertainty for a random variable, considering the value of another random variable known. It can be used in a similar way as the f-score. Therefore we can consider that the k best features are those with the most mutual information.\n",
        "\n",
        "We will first identify the important features for our first target variable - motor_UPDRS"
      ]
    },
    {
      "cell_type": "code",
      "execution_count": 35,
      "metadata": {
        "colab": {
          "base_uri": "https://localhost:8080/",
          "height": 601
        },
        "id": "CKiO03_LqmEm",
        "outputId": "e4fb2f5a-9a7d-491d-be15-c828106e4de0"
      },
      "outputs": [
        {
          "output_type": "stream",
          "name": "stdout",
          "text": [
            "Feature 0: 2.727552\n",
            "Feature 1: 0.523372\n",
            "Feature 2: 5.751081\n",
            "Feature 3: 0.100380\n",
            "Feature 4: 0.111572\n",
            "Feature 5: 0.072956\n",
            "Feature 6: 0.106501\n",
            "Feature 7: 0.074657\n",
            "Feature 8: 0.102646\n",
            "Feature 9: 0.066893\n",
            "Feature 10: 0.105921\n",
            "Feature 11: 0.093909\n",
            "Feature 12: 0.097539\n",
            "Feature 13: 0.105675\n",
            "Feature 14: 0.103987\n",
            "Feature 15: 0.149933\n",
            "Feature 16: 0.094487\n",
            "Feature 17: 0.192619\n",
            "Feature 18: 0.096941\n"
          ]
        },
        {
          "output_type": "display_data",
          "data": {
            "text/plain": [
              "<Figure size 504x252 with 1 Axes>"
            ],
            "image/png": "[encoded data removed]"
          },
          "metadata": {
            "needs_background": "light"
          }
        }
      ],
      "source": [
        "# example of mutual information feature selection for numerical input data\n",
        "from sklearn.datasets import make_regression\n",
        "from sklearn.model_selection import train_test_split\n",
        "from sklearn.feature_selection import SelectKBest\n",
        "from sklearn.feature_selection import mutual_info_regression\n",
        "from matplotlib import pyplot\n",
        "\n",
        "# feature selection\n",
        "def select_features(X_train, y_train, X_test):\n",
        "\t# configure to select all features\n",
        "\tfs = SelectKBest(score_func=mutual_info_regression, k='all')\n",
        "\t# learn relationship from training data\n",
        "\tfs.fit(X_train, y_train)\n",
        "\t# transform train input data\n",
        "\tX_train_fs = fs.transform(X_train)\n",
        "\t# transform test input data\n",
        "\tX_test_fs = fs.transform(X_test)\n",
        "\treturn X_train_fs, X_test_fs, fs\n",
        " \n",
        "# feature selection\n",
        "X_train_fs, X_test_fs, fs = select_features(X_train, y_train.iloc[:,0], X_test)\n",
        "# what are scores for the features\n",
        "for i in range(len(fs.scores_)):\n",
        "\tprint('Feature %d: %f' % (i, fs.scores_[i]))\n",
        "\n",
        "# plot the scores\n",
        "pyplot.bar([cols[i] for i in range(len(cols))],fs.scores_)\n",
        "pyplot.xticks(rotation=90)\n",
        "pyplot.show()"
      ]
    },
    {
      "cell_type": "markdown",
      "metadata": {
        "id": "DuG-UuIiFGpa"
      },
      "source": [
        "Features 2,0 and 1 clearly standout.\n",
        "\n",
        "\n",
        "We will now run the same test for the target variable - total_UPDRS"
      ]
    },
    {
      "cell_type": "code",
      "execution_count": 36,
      "metadata": {
        "colab": {
          "base_uri": "https://localhost:8080/",
          "height": 600
        },
        "id": "Cm4Bevq3iB5G",
        "outputId": "fad0ed22-f35a-4eb7-caa0-348baba31123"
      },
      "outputs": [
        {
          "output_type": "stream",
          "name": "stdout",
          "text": [
            "Feature 0: 2.720259\n",
            "Feature 1: 0.536653\n",
            "Feature 2: 5.920221\n",
            "Feature 3: 0.089739\n",
            "Feature 4: 0.118434\n",
            "Feature 5: 0.081617\n",
            "Feature 6: 0.138263\n",
            "Feature 7: 0.081878\n",
            "Feature 8: 0.103911\n",
            "Feature 9: 0.087527\n",
            "Feature 10: 0.087678\n",
            "Feature 11: 0.093119\n",
            "Feature 12: 0.114427\n",
            "Feature 13: 0.088283\n",
            "Feature 14: 0.081031\n",
            "Feature 15: 0.140444\n",
            "Feature 16: 0.068400\n",
            "Feature 17: 0.197796\n",
            "Feature 18: 0.097156\n"
          ]
        },
        {
          "output_type": "display_data",
          "data": {
            "text/plain": [
              "<Figure size 504x252 with 1 Axes>"
            ],
            "image/png": "[encoded data removed]"
          },
          "metadata": {
            "needs_background": "light"
          }
        }
      ],
      "source": [
        "# feature selection\n",
        "X_train_fs, X_test_fs, fs = select_features(X_train, y_train.iloc[:,1], X_test)\n",
        "# what are scores for the features\n",
        "for i in range(len(fs.scores_)):\n",
        "\tprint('Feature %d: %f' % (i, fs.scores_[i]))\n",
        "# plot the scores\n",
        "pyplot.bar([cols[i] for i in range(len(cols))],fs.scores_)\n",
        "pyplot.xticks(rotation=90)\n",
        "pyplot.show()"
      ]
    },
    {
      "cell_type": "markdown",
      "metadata": {
        "id": "mZDdVR6aFQCq"
      },
      "source": [
        "We are seeing similar trends as in features 2, 0 and 1 are coming up as important.\n",
        "\n",
        "### Recursive Feature Elimination\n",
        "\n",
        "Another way for efficient feature selection is to make use of a machine learning classifier or regressor and test it repeatedly in subsets of our original dataset until we find which set of features provide the best prediction on the picked algorithm.\n",
        "\n",
        "Since this is a compute intensive process, we will be only testing out one such method - RFE (Recursive Feature Elimination)\n",
        "\n",
        "RFE typically takes two input parameters :\n",
        "1. The machine learning algorithm of our choice to which the data will be fitted repeatedly until the subset of features is found which gives the best accuracy.\n",
        "2. The number of resultant features, this is an optional parameter, and when specified, the RFE model returns that number of features that are the most important.\n",
        "\n",
        "In our example here, we will use the RFECV model, which does not need the number of features parameter, and will only need the machine learning algorithm to be specified. We will first attempt to run the RFECV using a Linear Regression model on our dataset. We will first attempt to predict motor_UPDRS."
      ]
    },
    {
      "cell_type": "code",
      "execution_count": 37,
      "metadata": {
        "colab": {
          "base_uri": "https://localhost:8080/"
        },
        "id": "LG-kWTTpsxY4",
        "outputId": "805ac73b-6bc6-4120-db7f-621a3f62a57d"
      },
      "outputs": [
        {
          "output_type": "stream",
          "name": "stderr",
          "text": [
            "/usr/local/lib/python3.7/dist-packages/statsmodels/tools/_testing.py:19: FutureWarning: pandas.util.testing is deprecated. Use the functions in the public API at pandas.testing instead.\n",
            "  import pandas.util.testing as tm\n"
          ]
        },
        {
          "output_type": "stream",
          "name": "stdout",
          "text": [
            "[ True  True  True  True  True  True  True  True  True  True  True  True\n",
            "  True  True  True  True  True  True  True]\n",
            "[1 1 1 1 1 1 1 1 1 1 1 1 1 1 1 1 1 1 1]\n",
            "Column: age, True, Rank: 1.000\n",
            "Column: sex, True, Rank: 1.000\n",
            "Column: test_time, True, Rank: 1.000\n",
            "Column: Jitter(%), True, Rank: 1.000\n",
            "Column: Jitter(Abs), True, Rank: 1.000\n",
            "Column: Jitter:RAP, True, Rank: 1.000\n",
            "Column: Jitter:PPQ5, True, Rank: 1.000\n",
            "Column: Jitter:DDP, True, Rank: 1.000\n",
            "Column: Shimmer, True, Rank: 1.000\n",
            "Column: Shimmer(dB), True, Rank: 1.000\n",
            "Column: Shimmer:APQ3, True, Rank: 1.000\n",
            "Column: Shimmer:APQ5, True, Rank: 1.000\n",
            "Column: Shimmer:APQ11, True, Rank: 1.000\n",
            "Column: Shimmer:DDA, True, Rank: 1.000\n",
            "Column: NHR, True, Rank: 1.000\n",
            "Column: HNR, True, Rank: 1.000\n",
            "Column: RPDE, True, Rank: 1.000\n",
            "Column: DFA, True, Rank: 1.000\n",
            "Column: PPE, True, Rank: 1.000\n"
          ]
        }
      ],
      "source": [
        "from sklearn.feature_selection import RFECV\n",
        "import statsmodels.api as sm\n",
        "from sklearn.model_selection import train_test_split\n",
        "from sklearn.linear_model import LinearRegression\n",
        "from sklearn.feature_selection import RFE\n",
        "from sklearn.linear_model import RidgeCV, LassoCV, Ridge, Lasso\n",
        "from sklearn.feature_selection import RFECV\n",
        "model = LinearRegression()\n",
        "#Initializing RFE model\n",
        "rfe = RFECV(estimator=LinearRegression())\n",
        "#Transforming data using RFE\n",
        "X_rfe = rfe.fit_transform(X_train,y_train.iloc[:,0])  \n",
        "#Fitting the data to model\n",
        "model.fit(X_rfe,y_train.iloc[:,0])\n",
        "print(rfe.support_)\n",
        "print(rfe.ranking_)\n",
        "cols=list(dataset.columns)\n",
        "cols.remove('motor_UPDRS')\n",
        "cols.remove('total_UPDRS')\n",
        "for i in range(X.shape[1]):\n",
        "\tprint('Column: %s, %s, Rank: %.3f' % (cols[i], rfe.support_[i], rfe.ranking_[i]))"
      ]
    },
    {
      "cell_type": "markdown",
      "metadata": {
        "id": "i7AU4R8iGeBa"
      },
      "source": [
        "The results are a sightly inconsistent here, as we can see, the linear regressor classifier has determined all the features as important. However we have seen in the previous analyses that there is a lot of multicollinearity and hence Linear Regression is not a good fit model for this dataset.\n",
        "\n",
        "We will now try RFECV with a Decision tree regression for the first target variable - motor_UPDRS."
      ]
    },
    {
      "cell_type": "code",
      "execution_count": 38,
      "metadata": {
        "colab": {
          "base_uri": "https://localhost:8080/"
        },
        "id": "z3FVoNa0saQ6",
        "outputId": "edda9dd5-5597-4ff4-d15b-5c852562f5d3"
      },
      "outputs": [
        {
          "output_type": "stream",
          "name": "stdout",
          "text": [
            "[ True  True  True False False False False False False False False False\n",
            " False False False False False False False]\n",
            "[ 1  1  1 17  3 15 13  7  4 14  6 10 12 16  8  5 11  2  9]\n",
            "Column: age, True, Rank: 1.000\n",
            "Column: sex, True, Rank: 1.000\n",
            "Column: test_time, True, Rank: 1.000\n",
            "Column: Jitter(%), False, Rank: 17.000\n",
            "Column: Jitter(Abs), False, Rank: 3.000\n",
            "Column: Jitter:RAP, False, Rank: 15.000\n",
            "Column: Jitter:PPQ5, False, Rank: 13.000\n",
            "Column: Jitter:DDP, False, Rank: 7.000\n",
            "Column: Shimmer, False, Rank: 4.000\n",
            "Column: Shimmer(dB), False, Rank: 14.000\n",
            "Column: Shimmer:APQ3, False, Rank: 6.000\n",
            "Column: Shimmer:APQ5, False, Rank: 10.000\n",
            "Column: Shimmer:APQ11, False, Rank: 12.000\n",
            "Column: Shimmer:DDA, False, Rank: 16.000\n",
            "Column: NHR, False, Rank: 8.000\n",
            "Column: HNR, False, Rank: 5.000\n",
            "Column: RPDE, False, Rank: 11.000\n",
            "Column: DFA, False, Rank: 2.000\n",
            "Column: PPE, False, Rank: 9.000\n"
          ]
        }
      ],
      "source": [
        "from sklearn.feature_selection import RFECV\n",
        "from sklearn.tree import DecisionTreeRegressor\n",
        "model = DecisionTreeRegressor()\n",
        "#Initializing RFE model\n",
        "rfe = RFECV(estimator=DecisionTreeRegressor())\n",
        "#Transforming data using RFE\n",
        "X_rfe = rfe.fit_transform(X_train,y_train.iloc[:,0])  \n",
        "#Fitting the data to model\n",
        "model.fit(X_rfe,y_train.iloc[:,0])\n",
        "print(rfe.support_)\n",
        "print(rfe.ranking_)\n",
        "cols=list(dataset.columns)\n",
        "cols.remove('motor_UPDRS')\n",
        "cols.remove('total_UPDRS')\n",
        "for i in range(X.shape[1]):\n",
        "\tprint('Column: %s, %s, Rank: %.3f' % (cols[i], rfe.support_[i], rfe.ranking_[i]))"
      ]
    },
    {
      "cell_type": "markdown",
      "metadata": {
        "id": "zXD4B7GpHA3E"
      },
      "source": [
        "The RFE has given us three features that are most important to predict motor_UPDRS namely, age, sex and test_time. This is consistent with our previous analyses as well. \n",
        "\n",
        "We will now run RFE for total_UPDRS."
      ]
    },
    {
      "cell_type": "code",
      "execution_count": 39,
      "metadata": {
        "colab": {
          "base_uri": "https://localhost:8080/"
        },
        "id": "55KfRGh3NtCM",
        "outputId": "8580677b-05f6-4b41-e9bc-6e5b6aa32e05"
      },
      "outputs": [
        {
          "output_type": "stream",
          "name": "stdout",
          "text": [
            "[ True  True  True False False False False False False False False False\n",
            " False False False  True False  True False]\n",
            "[ 1  1  1  3  4  6 15 11 12 13 14  5  7  9  8  1  2  1 10]\n",
            "Column: age, True, Rank: 1.000\n",
            "Column: sex, True, Rank: 1.000\n",
            "Column: test_time, True, Rank: 1.000\n",
            "Column: Jitter(%), False, Rank: 3.000\n",
            "Column: Jitter(Abs), False, Rank: 4.000\n",
            "Column: Jitter:RAP, False, Rank: 6.000\n",
            "Column: Jitter:PPQ5, False, Rank: 15.000\n",
            "Column: Jitter:DDP, False, Rank: 11.000\n",
            "Column: Shimmer, False, Rank: 12.000\n",
            "Column: Shimmer(dB), False, Rank: 13.000\n",
            "Column: Shimmer:APQ3, False, Rank: 14.000\n",
            "Column: Shimmer:APQ5, False, Rank: 5.000\n",
            "Column: Shimmer:APQ11, False, Rank: 7.000\n",
            "Column: Shimmer:DDA, False, Rank: 9.000\n",
            "Column: NHR, False, Rank: 8.000\n",
            "Column: HNR, True, Rank: 1.000\n",
            "Column: RPDE, False, Rank: 2.000\n",
            "Column: DFA, True, Rank: 1.000\n",
            "Column: PPE, False, Rank: 10.000\n"
          ]
        }
      ],
      "source": [
        "model = DecisionTreeRegressor()\n",
        "#Initializing RFE model\n",
        "rfe = RFECV(estimator=DecisionTreeRegressor())\n",
        "#Transforming data using RFE\n",
        "X_rfe = rfe.fit_transform(X_train,y_train.iloc[:,1])  \n",
        "#Fitting the data to model\n",
        "model.fit(X_rfe,y_train.iloc[:,1])\n",
        "print(rfe.support_)\n",
        "print(rfe.ranking_)\n",
        "cols=list(dataset.columns)\n",
        "cols.remove('motor_UPDRS')\n",
        "cols.remove('total_UPDRS')\n",
        "for i in range(X.shape[1]):\n",
        "\tprint('Column: %s, %s, Rank: %.3f' % (cols[i], rfe.support_[i], rfe.ranking_[i]))"
      ]
    },
    {
      "cell_type": "markdown",
      "metadata": {
        "id": "9kPL-4MCHbLR"
      },
      "source": [
        "As for total_UPDRS, the RFECV DecisionTree has returned 5 important features namely - age, sex, test_time, RPDE,DFA.\n",
        "\n",
        "\n",
        "With the 4 methods we have tried to identify the important features, we can conclude the below:\n",
        "\n",
        "1. For motor_UPDRS target variable : \n",
        "The most important features are Age, Sex and test_time. The lesser important variables but still relevant are : HNR,RPDE,DFA and PPE (As per F-scores and Pearson Correlation)\n",
        "\n",
        "2. For total_UPDRS target variable :\n",
        "The most important features are Age, Sex, test_time, RPDE, DFA. The lesser important variables but still relevant are : HNR and PPE (as per f-scores and Pearson Correlation)\n"
      ]
    },
    {
      "cell_type": "code",
      "execution_count": 40,
      "metadata": {
        "id": "LIdTsMgGmRqp"
      },
      "outputs": [],
      "source": [
        "cols = ['age','sex','test_time','HNR','RPDE','DFA','PPE']\n",
        "X_train_final = X_train[cols]\n",
        "X_test_final = X_test[cols]"
      ]
    },
    {
      "cell_type": "markdown",
      "metadata": {
        "id": "ucqU1IjsmRqp"
      },
      "source": [
        "## Training Xgboost model"
      ]
    },
    {
      "cell_type": "code",
      "execution_count": 41,
      "metadata": {
        "colab": {
          "base_uri": "https://localhost:8080/"
        },
        "id": "-6RZx5fgmRqp",
        "outputId": "67d5977a-e201-48fb-f0eb-a8ff2de6198f"
      },
      "outputs": [
        {
          "output_type": "stream",
          "name": "stdout",
          "text": [
            "[17:43:09] WARNING: /workspace/src/objective/regression_obj.cu:152: reg:linear is now deprecated in favor of reg:squarederror.\n",
            "\n",
            "Motor UPDRS\n",
            "Mean absolute error:  2.866\n",
            "Root Mean Squared error:  3.688\n",
            "[17:43:09] WARNING: /workspace/src/objective/regression_obj.cu:152: reg:linear is now deprecated in favor of reg:squarederror.\n",
            "\n",
            "Total UPDRS\n",
            "Mean absolute error:  3.443\n",
            "Root Mean Squared error:  4.436\n"
          ]
        }
      ],
      "source": [
        "import xgboost as xgb\n",
        "model = xgb.XGBRegressor()\n",
        "model.fit(X_train_final,y_train.iloc[:,0])\n",
        "preds = model.predict(X_test_final)\n",
        "print(\"\\nMotor UPDRS\")\n",
        "print('Mean absolute error: ',round(np.mean(abs(preds - y_test.iloc[:,0])),3))\n",
        "print(\"Root Mean Squared error: \",(np.sqrt(np.mean((preds - y_test.iloc[:,0])**2))).round(3))\n",
        "\n",
        "model = xgb.XGBRegressor()\n",
        "model.fit(X_train_final,y_train.iloc[:,1])\n",
        "preds = model.predict(X_test_final)\n",
        "print(\"\\nTotal UPDRS\")\n",
        "print('Mean absolute error: ',round(np.mean(abs(preds - y_test.iloc[:,1])),3))\n",
        "print(\"Root Mean Squared error: \",round(np.sqrt(np.mean((preds - y_test.iloc[:,1])**2)),3))"
      ]
    },
    {
      "cell_type": "markdown",
      "metadata": {
        "id": "XzJJW1P_mRqp"
      },
      "source": [
        "## Training SVR model"
      ]
    },
    {
      "cell_type": "code",
      "execution_count": 42,
      "metadata": {
        "colab": {
          "base_uri": "https://localhost:8080/"
        },
        "id": "lh8KLx6EmRqp",
        "outputId": "12655253-297c-4c77-f578-cae2c3fb66fe"
      },
      "outputs": [
        {
          "output_type": "stream",
          "name": "stdout",
          "text": [
            "\n",
            "Motor UPDRS\n",
            "Mean absolute error:  6.81\n",
            "Root Mean Squared error:  7.935\n",
            "\n",
            "Total UPDRS\n",
            "Mean absolute error:  8.593\n",
            "Root Mean Squared error:  10.722\n"
          ]
        }
      ],
      "source": [
        "from sklearn.svm import SVR\n",
        "\n",
        "model = SVR(kernel='rbf')\n",
        "model.fit(X_train_final,y_train.iloc[:,0])\n",
        "preds = model.predict(X_test_final)\n",
        "print(\"\\nMotor UPDRS\")\n",
        "print('Mean absolute error: ',round(np.mean(abs(preds - y_test.iloc[:,0])),3))\n",
        "print(\"Root Mean Squared error: \",(np.sqrt(np.mean((preds - y_test.iloc[:,0])**2))).round(3))\n",
        "\n",
        "\n",
        "model.fit(X_train_final,y_train.iloc[:,1])\n",
        "preds = model.predict(X_test_final)\n",
        "print(\"\\nTotal UPDRS\")\n",
        "print('Mean absolute error: ',round(np.mean(abs(preds - y_test.iloc[:,1])),3))\n",
        "print(\"Root Mean Squared error: \",(np.sqrt(np.mean((preds - y_test.iloc[:,1])**2))).round(3))\n",
        "\n"
      ]
    },
    {
      "cell_type": "code",
      "source": [
        "from sklearn import datasets, preprocessing\n",
        "X_train_array = np.array(X_train_final)\n",
        "X_test_array = np.array(X_test_final)\n",
        "data_scaler = preprocessing.MinMaxScaler((0,1))\n",
        "target_scaler = preprocessing.MinMaxScaler((0,1))\n",
        "\n",
        "X_train_array = data_scaler.fit_transform(X_train_array)\n",
        "X_test_array = data_scaler.fit_transform(X_test_array)\n",
        "y_train_val = target_scaler.fit_transform(np.array(y_train.iloc[:,0]).reshape(-1,1))"
      ],
      "metadata": {
        "id": "wO-KvpYepHep"
      },
      "execution_count": 80,
      "outputs": []
    },
    {
      "cell_type": "code",
      "source": [
        "from neupy import algorithms\n",
        "from neupy.layers import *\n",
        "\n",
        "\n",
        "network = Input(7) >> Relu(5) >> Relu(4) >> Relu(3)>> Relu(2) >> Linear(1)\n",
        "optimizer = algorithms.RPROP(network)\n",
        "\n",
        "optimizer.train(X_train_array, y_train_val,epochs = 1000)\n",
        "preds = optimizer.predict(np.array(X_test_array))\n",
        "preds = target_scaler.inverse_transform(preds)\n",
        "print(\"\\nMotor UPDRS\")\n",
        "print('Mean absolute error: ',round(np.mean(abs(preds - np.array(y_test.iloc[:,0]))),3))\n",
        "print(\"Root Mean Squared error: \",(np.sqrt(np.mean((preds - np.array(y_test.iloc[:,0]))**2))).round(3))"
      ],
      "metadata": {
        "colab": {
          "base_uri": "https://localhost:8080/"
        },
        "id": "JbbzZZyxtbig",
        "outputId": "bc648155-46e7-4a94-d964-81254992a6e4"
      },
      "execution_count": 89,
      "outputs": [
        {
          "output_type": "stream",
          "name": "stderr",
          "text": [
            ""
          ]
        },
        {
          "output_type": "stream",
          "name": "stdout",
          "text": [
            "\n",
            "Motor UPDRS\n",
            "Mean absolute error:  7.018\n",
            "Root Mean Squared error:  8.144\n"
          ]
        },
        {
          "output_type": "stream",
          "name": "stderr",
          "text": [
            "\r                                                                               \r"
          ]
        }
      ]
    },
    {
      "cell_type": "code",
      "execution_count": 90,
      "metadata": {
        "colab": {
          "base_uri": "https://localhost:8080/"
        },
        "id": "S27ke0oWmRqp",
        "outputId": "92d15113-2d09-4963-8cc7-0788543d8950"
      },
      "outputs": [
        {
          "output_type": "stream",
          "name": "stderr",
          "text": [
            ""
          ]
        },
        {
          "output_type": "stream",
          "name": "stdout",
          "text": [
            "\n",
            "Total UPDRS\n",
            "Mean absolute error:  10.132\n",
            "Root Mean Squared error:  12.539\n"
          ]
        },
        {
          "output_type": "stream",
          "name": "stderr",
          "text": [
            "\r                                                                               \r"
          ]
        }
      ],
      "source": [
        "\n",
        "\n",
        "y_train_val = target_scaler.fit_transform(np.array(y_train.iloc[:,1]).reshape(-1,1))\n",
        "network = Input(7) >> Relu(5) >> Relu(4) >> Relu(3)>> Relu(2) >> Linear(1)\n",
        "optimizer = algorithms.RPROP(network)\n",
        "\n",
        "optimizer.train(X_train_array, y_train_val,epochs = 1000)\n",
        "preds = optimizer.predict(np.array(X_test_array))\n",
        "preds = target_scaler.inverse_transform(preds)\n",
        "\n",
        "print(\"\\nTotal UPDRS\")\n",
        "print('Mean absolute error: ',round(np.mean(abs(preds - np.array(y_test.iloc[:,1]))),3))\n",
        "print(\"Root Mean Squared error: \",(np.sqrt(np.mean((preds - np.array(y_test.iloc[:,1]))**2))).round(3))"
      ]
    },
    {
      "cell_type": "markdown",
      "metadata": {
        "id": "gC5JGUSMUIVM"
      },
      "source": [
        "##References\n",
        "\n",
        "1. Athanasios Tsanas, Max A. Little, Patrick E. McSharry, Lorraine O. Ramig (2009), \n",
        "'Accurate telemonitoring of Parkinson’s disease progression by non-invasive speech tests', \n",
        "IEEE Transactions on Biomedical Engineering (to appear). \n",
        "2. Max A. Little, Patrick E. McSharry, Eric J. Hunter, Lorraine O. Ramig (2009), \n",
        "'Suitability of dysphonia measurements for telemonitoring of Parkinson's disease', \n",
        "IEEE Transactions on Biomedical Engineering, 56(4):1015-1022 \n",
        "3. https://archive.ics.uci.edu/ml/datasets/parkinsons+telemonitoring\n",
        "4. https://www.kaggle.com/blackpianocat/parkinson\n",
        "5. https://machinelearningmastery.com/\n",
        "6. https://github.com/nikbearbrown\n",
        "7. https://stackoverflow.com/\n",
        "8. https://www.itl.nist.gov/div898/handbook/eda/section3/eda3665.htm \n",
        "9. https://towardsdatascience.com/\n",
        "10.https://scikit-learn.org/\n",
        "11.Scikit-learn: Machine Learning in Python, Pedregosa et al., JMLR 12, pp. 2825-2830, 2011."
      ]
    },
    {
      "cell_type": "markdown",
      "metadata": {
        "id": "ljKYYyZUa7in"
      },
      "source": [
        "Copyright 2021 | Basil Varghese\n",
        "\n",
        "Permission is hereby granted, free of charge, to any person obtaining a copy of this software and associated documentation files (the \"Software\"), to deal in the Software without restriction, including without limitation the rights to use, copy, modify, merge, publish, distribute, sublicense, and/or sell copies of the Software, and to permit persons to whom the Software is furnished to do so, subject to the following conditions:\n",
        "\n",
        "The above copyright notice and this permission notice shall be included in all copies or substantial portions of the Software.\n",
        "\n",
        "THE SOFTWARE IS PROVIDED \"AS IS\", WITHOUT WARRANTY OF ANY KIND, EXPRESS OR IMPLIED, INCLUDING BUT NOT LIMITED TO THE WARRANTIES OF MERCHANTABILITY, FITNESS FOR A PARTICULAR PURPOSE AND NONINFRINGEMENT. IN NO EVENT SHALL THE AUTHORS OR COPYRIGHT HOLDERS BE LIABLE FOR ANY CLAIM, DAMAGES OR OTHER LIABILITY, WHETHER IN AN ACTION OF CONTRACT, TORT OR OTHERWISE, ARISING FROM, OUT OF OR IN CONNECTION WITH THE SOFTWARE OR THE USE OR OTHER DEALINGS IN THE SOFTWARE."
      ]
    }
  ],
  "metadata": {
    "colab": {
      "collapsed_sections": [],
      "name": "Parkinson's disease prediction.ipynb",
      "provenance": []
    },
    "kernelspec": {
      "display_name": "Python 3 (ipykernel)",
      "language": "python",
      "name": "python3"
    },
    "language_info": {
      "codemirror_mode": {
        "name": "ipython",
        "version": 3
      },
      "file_extension": ".py",
      "mimetype": "text/x-python",
      "name": "python",
      "nbconvert_exporter": "python",
      "pygments_lexer": "ipython3",
      "version": "3.9.7"
    }
  },
  "nbformat": 4,
  "nbformat_minor": 0
}